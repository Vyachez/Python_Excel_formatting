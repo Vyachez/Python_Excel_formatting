{
 "cells": [
  {
   "cell_type": "markdown",
   "metadata": {},
   "source": [
    "# Magic Excel with Python"
   ]
  },
  {
   "cell_type": "markdown",
   "metadata": {},
   "source": [
    "~by Vyachez"
   ]
  },
  {
   "cell_type": "markdown",
   "metadata": {},
   "source": [
    "### used package https://openpyxl.readthedocs.io/en/stable/' "
   ]
  },
  {
   "cell_type": "markdown",
   "metadata": {},
   "source": [
    "Openpyxl is a Python module to read/write Excel 2010 xlsx/xlsm/xltx/xltm files."
   ]
  },
  {
   "cell_type": "code",
   "execution_count": 40,
   "metadata": {
    "collapsed": true
   },
   "outputs": [],
   "source": [
    "# importing modules\n",
    "import os\n",
    "import numpy as np\n",
    "import pandas as pd\n",
    "\n",
    "import openpyxl\n",
    "from openpyxl import Workbook\n",
    "from openpyxl.utils.dataframe import dataframe_to_rows\n",
    "from openpyxl.formatting import Rule\n",
    "from openpyxl.styles import Font, PatternFill, Border, NamedStyle, Side, Alignment\n",
    "from openpyxl.styles.differential import DifferentialStyle\n",
    "from openpyxl.formatting.rule import ColorScaleRule, CellIsRule, FormulaRule\n",
    "from openpyxl.worksheet.datavalidation import DataValidation\n"
   ]
  },
  {
   "cell_type": "markdown",
   "metadata": {},
   "source": [
    "#### Getting data"
   ]
  },
  {
   "cell_type": "code",
   "execution_count": 41,
   "metadata": {
    "collapsed": true
   },
   "outputs": [],
   "source": [
    "path = os.getcwd()+\"/\"\n",
    "data_file = \"test_data.csv\"\n",
    "dest_filename = \"Spreadsheet_ready.xlsx\"\n"
   ]
  },
  {
   "cell_type": "code",
   "execution_count": 42,
   "metadata": {
    "collapsed": true
   },
   "outputs": [],
   "source": [
    "data = pd.read_csv(path+data_file)\n"
   ]
  },
  {
   "cell_type": "code",
   "execution_count": 43,
   "metadata": {},
   "outputs": [
    {
     "data": {
      "text/html": [
       "<div>\n",
       "<style scoped>\n",
       "    .dataframe tbody tr th:only-of-type {\n",
       "        vertical-align: middle;\n",
       "    }\n",
       "\n",
       "    .dataframe tbody tr th {\n",
       "        vertical-align: top;\n",
       "    }\n",
       "\n",
       "    .dataframe thead th {\n",
       "        text-align: right;\n",
       "    }\n",
       "</style>\n",
       "<table border=\"1\" class=\"dataframe\">\n",
       "  <thead>\n",
       "    <tr style=\"text-align: right;\">\n",
       "      <th></th>\n",
       "      <th>Item</th>\n",
       "      <th>Sub-item</th>\n",
       "      <th>Result</th>\n",
       "      <th>Result-2</th>\n",
       "      <th>Color</th>\n",
       "      <th>Score</th>\n",
       "      <th>Comments</th>\n",
       "    </tr>\n",
       "  </thead>\n",
       "  <tbody>\n",
       "    <tr>\n",
       "      <th>0</th>\n",
       "      <td>User1</td>\n",
       "      <td>Test_1</td>\n",
       "      <td>OK</td>\n",
       "      <td>Pass</td>\n",
       "      <td>Red</td>\n",
       "      <td>1</td>\n",
       "      <td>NaN</td>\n",
       "    </tr>\n",
       "    <tr>\n",
       "      <th>1</th>\n",
       "      <td>User1</td>\n",
       "      <td>Test_2</td>\n",
       "      <td>OK</td>\n",
       "      <td>Fail</td>\n",
       "      <td>Yellow</td>\n",
       "      <td>3</td>\n",
       "      <td>NaN</td>\n",
       "    </tr>\n",
       "    <tr>\n",
       "      <th>2</th>\n",
       "      <td>User1</td>\n",
       "      <td>Test_3</td>\n",
       "      <td>Not Ok</td>\n",
       "      <td>Fail</td>\n",
       "      <td>Red</td>\n",
       "      <td>1</td>\n",
       "      <td>NaN</td>\n",
       "    </tr>\n",
       "  </tbody>\n",
       "</table>\n",
       "</div>"
      ],
      "text/plain": [
       "    Item Sub-item  Result Result-2   Color  Score  Comments\n",
       "0  User1   Test_1      OK     Pass     Red      1       NaN\n",
       "1  User1   Test_2      OK     Fail  Yellow      3       NaN\n",
       "2  User1   Test_3  Not Ok     Fail     Red      1       NaN"
      ]
     },
     "execution_count": 43,
     "metadata": {},
     "output_type": "execute_result"
    }
   ],
   "source": [
    "data.head(3)\n"
   ]
  },
  {
   "cell_type": "markdown",
   "metadata": {},
   "source": [
    "#### Initializing openpyxl and setting up data"
   ]
  },
  {
   "cell_type": "code",
   "execution_count": 44,
   "metadata": {
    "collapsed": true
   },
   "outputs": [],
   "source": [
    "# creating openpyxl object to read data in excel\n",
    "wb = Workbook()\n"
   ]
  },
  {
   "cell_type": "code",
   "execution_count": 45,
   "metadata": {
    "collapsed": true
   },
   "outputs": [],
   "source": [
    "# defining tab\n",
    "main_tab = wb.active\n",
    "main_tab.title = \"Main_tab\"\n"
   ]
  },
  {
   "cell_type": "code",
   "execution_count": 46,
   "metadata": {
    "collapsed": true
   },
   "outputs": [],
   "source": [
    "# filling with data\n",
    "for r in dataframe_to_rows(data, index=False, header=True):\n",
    "    main_tab.append(r)\n",
    "    "
   ]
  },
  {
   "cell_type": "code",
   "execution_count": 47,
   "metadata": {
    "collapsed": true
   },
   "outputs": [],
   "source": [
    "# Saving workbook\n",
    "wb.save(filename = dest_filename)"
   ]
  },
  {
   "cell_type": "markdown",
   "metadata": {},
   "source": [
    "#### Formatting"
   ]
  },
  {
   "cell_type": "markdown",
   "metadata": {},
   "source": [
    "##### defining formatting styles"
   ]
  },
  {
   "cell_type": "code",
   "execution_count": 48,
   "metadata": {
    "collapsed": true
   },
   "outputs": [],
   "source": [
    "# body style \n",
    "def add_body_style(wb):\n",
    "    name = 'body'\n",
    "    st = NamedStyle(name=name)\n",
    "    st.font = Font(name='Calibri', bold=False, size=11)\n",
    "    bd = Side(style='thin', color=\"000000\")\n",
    "    st.border = Border(left=bd, top=bd, right=bd, bottom=bd)\n",
    "    st.alignment=Alignment(horizontal='left',\n",
    "                        vertical='center',\n",
    "                        text_rotation=0,\n",
    "                        wrap_text=True,\n",
    "                        shrink_to_fit=False,\n",
    "                        indent=0)\n",
    "    st.fill = PatternFill(start_color='fefef5',\n",
    "                       end_color='fefef5',\n",
    "                       fill_type='solid')\n",
    "    wb.add_named_style(st)\n",
    "    return name\n",
    "\n",
    "# header style\n",
    "def add_head_style(wb):\n",
    "    name = 'headstyle'\n",
    "    st = NamedStyle(name=name)\n",
    "    st.font = Font(name='Calibri', bold=True, color='FFFFFF', size=10)\n",
    "    bd = Side(style='thin', color=\"000000\")\n",
    "    st.border = Border(left=bd, top=bd, right=bd, bottom=bd)\n",
    "    st.alignment=Alignment(horizontal='center',\n",
    "                        vertical='center',\n",
    "                        text_rotation=0,\n",
    "                        wrap_text=True,\n",
    "                        shrink_to_fit=False,\n",
    "                        indent=0)\n",
    "    st.fill = PatternFill(start_color='538DD5',\n",
    "                       end_color='538DD5',\n",
    "                       fill_type='solid')\n",
    "    wb.add_named_style(st)\n",
    "    return name\n",
    "\n",
    "# highlighter style \n",
    "def add_highlighter(wb):\n",
    "    name = 'highlight'\n",
    "    st = NamedStyle(name=name)\n",
    "    st.font = Font(name='Calibri', bold=True, size=11)\n",
    "    bdb = Side(style='medium', color=\"000000\")\n",
    "    bdt = Side(style='thin', color=\"000000\")\n",
    "    st.border = Border(left=bdt, top=bdt, right=bdt, bottom=bdt)\n",
    "    st.alignment=Alignment(horizontal='left',\n",
    "                        vertical='center',\n",
    "                        text_rotation=0,\n",
    "                        wrap_text=True,\n",
    "                        shrink_to_fit=False,\n",
    "                        indent=0)\n",
    "    st.fill = PatternFill(start_color='ffcccc',\n",
    "                       end_color='ffcccc',\n",
    "                       fill_type='solid')\n",
    "    wb.add_named_style(st)\n",
    "    return name\n",
    "\n",
    "# left column style\n",
    "def add_leftcol_style(wb):\n",
    "    name = 'indexer'\n",
    "    st = NamedStyle(name=name)\n",
    "    st.font = Font(name='Calibri', bold=True, size=10)\n",
    "    bd = Side(style='thin', color=\"000000\")\n",
    "    st.border = Border(left=bd, top=bd, right=bd, bottom=bd)\n",
    "    st.alignment=Alignment(horizontal='left',\n",
    "                        vertical='center',\n",
    "                        text_rotation=0,\n",
    "                        wrap_text=True,\n",
    "                        shrink_to_fit=False,\n",
    "                        indent=0)\n",
    "    st.fill = PatternFill(start_color='e0e0eb',\n",
    "                       end_color='e0e0eb',\n",
    "                       fill_type='solid')\n",
    "    wb.add_named_style(st)\n",
    "    return name\n"
   ]
  },
  {
   "cell_type": "markdown",
   "metadata": {},
   "source": [
    "##### applying styles "
   ]
  },
  {
   "cell_type": "code",
   "execution_count": 49,
   "metadata": {
    "collapsed": true
   },
   "outputs": [],
   "source": [
    "# appending styles to workbook\n",
    "letters = [\"A\",\"B\",\"C\",\"D\",\"E\",\"F\",\"G\"]\n",
    "\n",
    "# left column style\n",
    "index_style = add_leftcol_style(wb)\n",
    "for rw in range(2, 14):\n",
    "    main_tab['A'+str(rw)].style = index_style\n",
    "    \n",
    "# header style\n",
    "head_style = add_head_style(wb)\n",
    "for l in letters:\n",
    "    main_tab[l+\"1\"].style = head_style\n",
    "\n",
    "# body style\n",
    "body_style = add_body_style(wb)\n",
    "highlighter = add_highlighter(wb) # highlight critical risk levels\n",
    "for rw in range(2, 14):\n",
    "    for l in letters[1:]:\n",
    "        main_tab[l+str(rw)].style = body_style\n",
    "        if main_tab['F'+str(rw)].value < 2:\n",
    "            main_tab[l+str(rw)].style = highlighter\n",
    "            main_tab['A'+str(rw)].style = highlighter\n",
    "            "
   ]
  },
  {
   "cell_type": "markdown",
   "metadata": {},
   "source": [
    "##### rows and columns dimensions"
   ]
  },
  {
   "cell_type": "code",
   "execution_count": 50,
   "metadata": {
    "collapsed": true
   },
   "outputs": [],
   "source": [
    "# applying rows dimensions\n",
    "\n",
    "# header height\n",
    "main_tab.row_dimensions[1].height = 30\n",
    "\n",
    "# regular row height\n",
    "for dim in range(2, 14):\n",
    "    main_tab.row_dimensions[dim].height = 40\n",
    "    "
   ]
  },
  {
   "cell_type": "code",
   "execution_count": 51,
   "metadata": {
    "collapsed": true
   },
   "outputs": [],
   "source": [
    "# applying columns dimensions\n",
    "\n",
    "# dimensiton for first columns (as an example)\n",
    "main_tab.column_dimensions['A'].width = 17\n",
    "\n",
    "# iterating through number of columns\n",
    "for dim in range(1, 2+1):\n",
    "    main_tab.column_dimensions[letters[dim]].width = 20\n",
    "\n",
    "for dim in range(3, 5+1):\n",
    "    main_tab.column_dimensions[letters[dim]].width = 12\n",
    "\n",
    "# finishing with individual columns\n",
    "main_tab.column_dimensions['G'].width = 25\n"
   ]
  },
  {
   "cell_type": "markdown",
   "metadata": {},
   "source": [
    "##### conditional formatting"
   ]
  },
  {
   "cell_type": "code",
   "execution_count": 52,
   "metadata": {
    "collapsed": true
   },
   "outputs": [],
   "source": [
    "# adds conditional format to selected range\n",
    "def add_cond_text_format(ws, text, color, start, end):\n",
    "    '''\n",
    "    Takes:\n",
    "    - ws - worksheet object\n",
    "    - text - as string\n",
    "    - color - hex color\n",
    "    - start cell+col string\n",
    "    - end cell+col string\n",
    "    '''\n",
    "    fill = PatternFill(bgColor=color)\n",
    "    dxf = DifferentialStyle(fill=fill)\n",
    "    rule = Rule(type=\"cellIs\", operator=\"equal\", dxf=dxf)\n",
    "    rule.formula = ['\"{}\"'.format(text)]\n",
    "    ws.conditional_formatting.add(start+\":\"+end, rule)"
   ]
  },
  {
   "cell_type": "code",
   "execution_count": 53,
   "metadata": {
    "collapsed": true
   },
   "outputs": [],
   "source": [
    "# inserting conditional formatting formula for ratings\n",
    "values = ['Red', 'Orange', 'Yellow', 'Green']\n",
    "colors = ['FF0000','FFC000','FFFF00','92D050']\n",
    "for val, colr in zip(values,colors):\n",
    "    add_cond_text_format(main_tab, val, colr, 'E2', 'E13')"
   ]
  },
  {
   "cell_type": "markdown",
   "metadata": {},
   "source": [
    "##### making filters"
   ]
  },
  {
   "cell_type": "code",
   "execution_count": 54,
   "metadata": {
    "collapsed": true
   },
   "outputs": [],
   "source": [
    "# filtering\n",
    "main_tab.auto_filter.ref = \"A1:G1\"\n",
    "# freezing\n",
    "main_tab.freeze_panes = \"A2\""
   ]
  },
  {
   "cell_type": "markdown",
   "metadata": {},
   "source": [
    "##### other useful stuff"
   ]
  },
  {
   "cell_type": "code",
   "execution_count": 55,
   "metadata": {
    "collapsed": true
   },
   "outputs": [],
   "source": [
    "# hiding gridlines\n",
    "main_tab.sheet_view.showGridLines = False"
   ]
  },
  {
   "cell_type": "code",
   "execution_count": 56,
   "metadata": {
    "collapsed": true
   },
   "outputs": [],
   "source": [
    "# putting reference at the end of document\n",
    "main_tab['A15'].value = '* Just footnote.'"
   ]
  },
  {
   "cell_type": "code",
   "execution_count": 57,
   "metadata": {
    "collapsed": true
   },
   "outputs": [],
   "source": [
    "# view\n",
    "main_tab.sheet_view.zoomScale = 110"
   ]
  },
  {
   "cell_type": "code",
   "execution_count": 58,
   "metadata": {
    "collapsed": true
   },
   "outputs": [],
   "source": [
    "# Saving workbook\n",
    "wb.save(filename = dest_filename)"
   ]
  },
  {
   "cell_type": "code",
   "execution_count": null,
   "metadata": {
    "collapsed": true
   },
   "outputs": [],
   "source": []
  }
 ],
 "metadata": {
  "kernelspec": {
   "display_name": "Python 3",
   "language": "python",
   "name": "python3"
  },
  "language_info": {
   "codemirror_mode": {
    "name": "ipython",
    "version": 3
   },
   "file_extension": ".py",
   "mimetype": "text/x-python",
   "name": "python",
   "nbconvert_exporter": "python",
   "pygments_lexer": "ipython3",
   "version": "3.6.3"
  }
 },
 "nbformat": 4,
 "nbformat_minor": 2
}
